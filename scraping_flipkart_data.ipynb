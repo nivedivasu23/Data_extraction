{
 "cells": [
  {
   "cell_type": "markdown",
   "id": "64c42950",
   "metadata": {},
   "source": [
    "## Scrapping the FlipKart"
   ]
  },
  {
   "cell_type": "markdown",
   "id": "50ef88f1",
   "metadata": {},
   "source": [
    "###  Importing the libraries"
   ]
  },
  {
   "cell_type": "code",
   "execution_count": 1,
   "id": "44947c36",
   "metadata": {},
   "outputs": [],
   "source": [
    "from bs4 import BeautifulSoup as bs\n",
    "import requests\n",
    "import numpy as np\n",
    "import pandas as pd\n",
    "import re"
   ]
  },
  {
   "cell_type": "code",
   "execution_count": 2,
   "id": "2f358b1e",
   "metadata": {},
   "outputs": [],
   "source": [
    "def url_generator(product_name):\n",
    "    base_url = 'https://www.flipkart.com/search?q='\n",
    "    complete_url = base_url+product_name\n",
    "    return complete_url"
   ]
  },
  {
   "cell_type": "code",
   "execution_count": 3,
   "id": "fbc231d8",
   "metadata": {},
   "outputs": [],
   "source": [
    "def product_details_scraping_category_1(url):\n",
    "    products=[]              \n",
    "    prices=[]                \n",
    "    ratings=[]               \n",
    "    offer= []\n",
    "    reviews=[]\n",
    "    other_offers=[]\n",
    "    actual_price=[]\n",
    "    specs=[]\n",
    "    \n",
    "    for x in range(2):\n",
    "        link=url+'&page='+str(x)\n",
    "\n",
    "        page = requests.get(link)\n",
    "        soup = bs(page.content, 'html.parser')\n",
    "        name=soup.find('div',class_=\"_4rR01T\")\n",
    "    \n",
    "        specification=soup.find('div',class_=\"fMghEO\")\n",
    "        price=soup.find('div',class_='_30jeq3 _1_WHN1')\n",
    "        for data in soup.findAll('div',class_='_3pLy-c row'):\n",
    "            names=data.find('div', attrs={'class':'_4rR01T'})\n",
    "            price=data.find('div', attrs={'class':'_30jeq3 _1_WHN1'})\n",
    "            actual_prices=data.find('div', attrs={'class':'_3I9_wc _27UcVY'})\n",
    "            offers=data.find('div',attrs={'class':'_3Ay6Sb'})\n",
    "            rating=data.find('div',attrs={'class':'_3LWZlK'})\n",
    "            review=data.find('span',attrs={'class':'_2_R_DZ'})\n",
    "            try:\n",
    "                products.append(names.text) \n",
    "                prices.append(price.text)\n",
    "                specs.append(specification.text)\n",
    "                actual_price.append(actual_prices.text)\n",
    "                offer.append(offers.text)\n",
    "                ratings.append(rating.text)\n",
    "                reviews.append(review.text)\n",
    "            except AttributeError:\n",
    "                    pass\n",
    "\n",
    "\n",
    "    a={'Product Name':products,'Specifications':specs,'Actual Price':actual_price,'New Price':prices,'Discount Percentage':offer,'Ratings':ratings,'Rating and Review Count':reviews}\n",
    "    df=pd.DataFrame.from_dict(a,orient ='index')\n",
    "    df=df.transpose()\n",
    "    print(df.head(5))\n",
    "    return df"
   ]
  },
  {
   "cell_type": "code",
   "execution_count": 4,
   "id": "0932edfa",
   "metadata": {},
   "outputs": [],
   "source": [
    "def product_details_scraping_category_2(url):\n",
    "    products=[]              \n",
    "    prices=[]                \n",
    "    ratings=[]               \n",
    "    offer= []\n",
    "    reviews=[]\n",
    "    other_offers=[]\n",
    "    actual_price=[]\n",
    "    specs=[]\n",
    "         \n",
    "    for x in range(2):\n",
    "        link=url+'&page='+str(x)\n",
    "        page = requests.get(link)\n",
    "        soup = bs(page.content, 'html.parser') \n",
    "\n",
    "        for data in soup.findAll('div',class_='_4ddWXP'):\n",
    "            \n",
    "            names=data.find('a', attrs={'class':'s1Q9rs'})\n",
    "            price=data.find('div', attrs={'class':'_30jeq3'})\n",
    "            actual_prices=data.find('div', attrs={'class':'_3I9_wc'})\n",
    "            offers=data.find('div',attrs={'class':'_3Ay6Sb'})\n",
    "            rating=data.find('div',attrs={'class':'_3LWZlK'})\n",
    "            review=data.find('span',attrs={'class':'_2_R_DZ'})\n",
    "            specification = data.find('div', attrs={'class':'_3Djpdu'})\n",
    "\n",
    "            try:\n",
    "                products.append(names.text) \n",
    "                prices.append(price.text)\n",
    "                specs.append(specification.text)\n",
    "                actual_price.append(actual_prices.text)\n",
    "                offer.append(offers.text)\n",
    "                ratings.append(rating.text)\n",
    "                reviews.append(review.text)\n",
    "            except AttributeError:\n",
    "                    pass\n",
    "\n",
    "    a={'Product Name':products,'Specification':specs,'Actual Price':actual_price,'New Price':prices,'Discount Percentage':offer,'Rating':ratings,'Rating Count':reviews}\n",
    "    df=pd.DataFrame.from_dict(a,orient ='index')\n",
    "    df=df.transpose()\n",
    "    print(df.head(5))\n",
    "    return df"
   ]
  },
  {
   "cell_type": "code",
   "execution_count": 5,
   "id": "e4bd9b5f",
   "metadata": {},
   "outputs": [],
   "source": [
    "def product_details_scraping_category_3(url):\n",
    "    products=[]              \n",
    "    prices=[]                \n",
    "    ratings=[]                   \n",
    "    offer= []\n",
    "    reviews=[]\n",
    "    other_offers=[]\n",
    "    actual_price=[]\n",
    "    specs=[]\n",
    "    assured = []\n",
    "    for x in range(2):\n",
    "        link=url+'&page='+str(x)\n",
    "\n",
    "\n",
    "        page = requests.get(link)\n",
    "        soup = bs(page.content, 'html.parser')\n",
    "        name=soup.find('div',class_=\"_2WkVRV\")\n",
    "    \n",
    "        specification=soup.find('a',class_=\"IRpwTa\")\n",
    "        price=soup.find('div',class_='_30jeq3')\n",
    "        for data in soup.findAll('div',class_='_1xHGtK _373qXS'):\n",
    "            names=data.find('div', attrs={'class':'_2WkVRV'})\n",
    "            price=data.find('div', attrs={'class':'_30jeq3'})\n",
    "            actual_prices=data.find('div', attrs={'class':'_3I9_wc'})\n",
    "            offers=data.find('div',attrs={'class':'_3Ay6Sb'})\n",
    "            specification = data.find('a', attrs={'class':'IRpwTa'})\n",
    "            try:\n",
    "                products.append(names.text) \n",
    "                prices.append(price.text)\n",
    "                specs.append(specification.text)\n",
    "                actual_price.append(actual_prices.text)\n",
    "                offer.append(offers.text)\n",
    "            except AttributeError:\n",
    "                    pass\n",
    "\n",
    "    a={'Product Name':products,'Specification':specs,'Actual Price':actual_price,'New Price':prices,'Discount Percentage':offer}\n",
    "    df=pd.DataFrame.from_dict(a,orient ='index')\n",
    "    df=df.transpose()\n",
    "    print(df.head(5))\n",
    "    return df"
   ]
  },
  {
   "cell_type": "code",
   "execution_count": 6,
   "id": "9b9a1890",
   "metadata": {},
   "outputs": [],
   "source": [
    "def preprocessing_2(data):\n",
    "    cols = ['Actual Price', 'New Price']\n",
    "    data.loc[:,cols] = data.loc[:,cols].fillna(method = 'bfill',axis=1)\n",
    "    data['Discount Percentage']=data['Discount Percentage'].fillna(0).str.replace('% off','').fillna(0).astype(float).astype(int)\n",
    "    \n",
    "    data['New Price']=data['New Price'].str.replace('₹','').str.replace(',','').fillna(0).astype(float).astype(int)\n",
    "    data['Actual Price']=data['Actual Price'].str.replace('₹','').str.replace(',','').fillna(0).astype(float).astype(int)\n",
    "    data['Rating Count']=data['Rating Count'].fillna(0).str.replace('(','').str.replace(')','').str.replace(',','').fillna(0).astype(float).astype(int)\n",
    "    data['Rating']=data['Rating'].astype(float)\n",
    "\n",
    "    return(data)"
   ]
  },
  {
   "cell_type": "code",
   "execution_count": 7,
   "id": "9919596d",
   "metadata": {},
   "outputs": [],
   "source": [
    "def preprocessing_3(data):\n",
    "    cols = ['Actual Price', 'New Price']\n",
    "    data.loc[:,cols] = data.loc[:,cols].fillna(method = 'bfill',axis=1)\n",
    "    data['Discount Percentage']=data['Discount Percentage'].fillna(0).str.replace('% off','').fillna(0).astype(float).astype(int)\n",
    "    \n",
    "    data['New Price']=data['New Price'].str.replace('₹','').str.replace(',','').fillna(0).astype(float).astype(int)\n",
    "    data['Actual Price']=data['Actual Price'].str.replace('₹','').str.replace(',','').fillna(0).astype(float).astype(int)\n",
    "    return data"
   ]
  },
  {
   "cell_type": "code",
   "execution_count": 8,
   "id": "c1543734",
   "metadata": {},
   "outputs": [],
   "source": [
    "def preprocessing_1(data):\n",
    "    cols = ['Actual Price', 'New Price']\n",
    "    data.loc[:,cols] = data.loc[:,cols].fillna(method = 'bfill',axis=1)\n",
    "    data['Discount Percentage']=data['Discount Percentage'].fillna(0).str.replace('% off','').fillna(0).astype(float).astype(int)\n",
    "    \n",
    "    data['New Price']=data['New Price'].str.replace('₹','').str.replace(',','').fillna(0).astype(float).astype(int)\n",
    "    data['Actual Price']=data['Actual Price'].str.replace('₹','').str.replace(',','').fillna(0).astype(float).astype(int)\n",
    "    data[['Rating Count', 'Review Count']] = data['Rating and Review Count'].str.split('&', 1, expand=True)\n",
    "    data['Rating Count']=data['Rating Count'].str.replace('Ratings','').str.replace(',','').fillna(0).astype(float).astype(int)\n",
    "    data['Review Count']=data['Review Count'].str.replace('Reviews','').str.replace(',','').fillna(0).astype(float).astype(int)\n",
    "    data.drop('Rating and Review Count',axis='columns', inplace=True)\n",
    "    data['Ratings']=data['Ratings'].fillna(0).astype(float)\n",
    "    return data"
   ]
  },
  {
   "cell_type": "markdown",
   "id": "d6d320e6",
   "metadata": {},
   "source": [
    "### main funtion"
   ]
  },
  {
   "cell_type": "code",
   "execution_count": 15,
   "id": "0e027625",
   "metadata": {},
   "outputs": [
    {
     "name": "stdout",
     "output_type": "stream",
     "text": [
      "enter the product details you need to fetch\n",
      "Nonetv\n",
      "https://www.flipkart.com/search?q=tv\n",
      "                                        Product Name  \\\n",
      "0  realme 80 cm (32 inch) HD Ready LED Smart Andr...   \n",
      "1  Mi 4A PRO 80 cm (32 inch) HD Ready LED Smart A...   \n",
      "2  OnePlus Y Series 100 cm (40 inch) Full HD LED ...   \n",
      "3  SAMSUNG The Frame 2020 Series 163 cm (65 inch)...   \n",
      "4      SAMSUNG 80 cm (32 inch) HD Ready LED Smart TV   \n",
      "\n",
      "                                      Specifications Actual Price  New Price  \\\n",
      "0  Netflix|Prime Video|Disney+Hotstar|YoutubeOper...      ₹17,999    ₹14,999   \n",
      "1  Netflix|Prime Video|Disney+Hotstar|YoutubeOper...      ₹19,999    ₹16,999   \n",
      "2  Netflix|Prime Video|Disney+Hotstar|YoutubeOper...      ₹27,999    ₹22,499   \n",
      "3  Netflix|Prime Video|Disney+Hotstar|YoutubeOper...    ₹2,22,900  ₹1,22,290   \n",
      "4  Netflix|Prime Video|Disney+Hotstar|YoutubeOper...      ₹19,900    ₹16,999   \n",
      "\n",
      "  Discount Percentage Ratings            Rating and Review Count  \n",
      "0             16% off     4.3  1,76,327 Ratings & 20,533 Reviews  \n",
      "1             15% off     4.4  6,53,838 Ratings & 66,469 Reviews  \n",
      "2             19% off     4.3     71,363 Ratings & 6,333 Reviews  \n",
      "3             45% off     4.5        4,256 Ratings & 637 Reviews  \n",
      "4             14% off     4.4     46,497 Ratings & 4,252 Reviews  \n"
     ]
    }
   ],
   "source": [
    "product_name = input(print(\"enter the product details you need to fetch\"))\n",
    "url = url_generator(product_name)\n",
    "print(url)\n",
    "page = requests.get(url)\n",
    "soup = bs(page.content, 'html.parser')\n",
    "\n",
    "data = soup.findAll('div',class_='_3pLy-c row')\n",
    "#print(data)\n",
    "data2 = soup.findAll('div',class_='_4ddWXP')\n",
    "#print(data2)\n",
    "\n",
    "\n",
    "if(data != []):\n",
    "    data = product_details_scraping_category_1(url)\n",
    "    new_data = preprocessing_1(data)\n",
    "    \n",
    "elif(data2 != []):\n",
    "    data = product_details_scraping_category_2(url)\n",
    "    new_data = preprocessing_2(data)\n",
    "    \n",
    "else:\n",
    "    data = product_details_scraping_category_3(url)\n",
    "    new_data = preprocessing_3(data)\n",
    "    \n"
   ]
  },
  {
   "cell_type": "code",
   "execution_count": 16,
   "id": "63e25ae5",
   "metadata": {},
   "outputs": [
    {
     "data": {
      "text/html": [
       "<div><div id=d5c47ca3-d529-4222-8609-1de9503614d8 style=\"display:none; background-color:#9D6CFF; color:white; width:200px; height:30px; padding-left:5px; border-radius:4px; flex-direction:row; justify-content:space-around; align-items:center;\" onmouseover=\"this.style.backgroundColor='#BA9BF8'\" onmouseout=\"this.style.backgroundColor='#9D6CFF'\" onclick=\"window.commands?.execute('create-mitosheet-from-dataframe-output');\">See Full Dataframe in Mito</div> <script> if (window.commands.hasCommand('create-mitosheet-from-dataframe-output')) document.getElementById('d5c47ca3-d529-4222-8609-1de9503614d8').style.display = 'flex' </script> <table border=\"1\" class=\"dataframe\">\n",
       "  <thead>\n",
       "    <tr style=\"text-align: right;\">\n",
       "      <th></th>\n",
       "      <th>Product Name</th>\n",
       "      <th>Specifications</th>\n",
       "      <th>Actual Price</th>\n",
       "      <th>New Price</th>\n",
       "      <th>Discount Percentage</th>\n",
       "      <th>Ratings</th>\n",
       "      <th>Rating Count</th>\n",
       "      <th>Review Count</th>\n",
       "    </tr>\n",
       "  </thead>\n",
       "  <tbody>\n",
       "    <tr>\n",
       "      <th>0</th>\n",
       "      <td>realme 80 cm (32 inch) HD Ready LED Smart Android TV</td>\n",
       "      <td>Netflix|Prime Video|Disney+Hotstar|YoutubeOperating System: AndroidHD Ready 1366 x 768 Pixels24 W Speaker Output60 Hz Refresh Rate3 x HDMI | 2 x USB1 Year Domestic Warranty, 2 Years on Panel</td>\n",
       "      <td>17999</td>\n",
       "      <td>14999</td>\n",
       "      <td>16</td>\n",
       "      <td>4.3</td>\n",
       "      <td>176327</td>\n",
       "      <td>20533</td>\n",
       "    </tr>\n",
       "    <tr>\n",
       "      <th>1</th>\n",
       "      <td>Mi 4A PRO 80 cm (32 inch) HD Ready LED Smart Android TV</td>\n",
       "      <td>Netflix|Prime Video|Disney+Hotstar|YoutubeOperating System: AndroidHD Ready 1366 x 768 Pixels24 W Speaker Output60 Hz Refresh Rate3 x HDMI | 2 x USB1 Year Domestic Warranty, 2 Years on Panel</td>\n",
       "      <td>19999</td>\n",
       "      <td>16999</td>\n",
       "      <td>15</td>\n",
       "      <td>4.4</td>\n",
       "      <td>653838</td>\n",
       "      <td>66469</td>\n",
       "    </tr>\n",
       "    <tr>\n",
       "      <th>2</th>\n",
       "      <td>OnePlus Y Series 100 cm (40 inch) Full HD LED Smart Android TV</td>\n",
       "      <td>Netflix|Prime Video|Disney+Hotstar|YoutubeOperating System: AndroidHD Ready 1366 x 768 Pixels24 W Speaker Output60 Hz Refresh Rate3 x HDMI | 2 x USB1 Year Domestic Warranty, 2 Years on Panel</td>\n",
       "      <td>27999</td>\n",
       "      <td>22499</td>\n",
       "      <td>19</td>\n",
       "      <td>4.3</td>\n",
       "      <td>71363</td>\n",
       "      <td>6333</td>\n",
       "    </tr>\n",
       "    <tr>\n",
       "      <th>3</th>\n",
       "      <td>SAMSUNG The Frame 2020 Series 163 cm (65 inch) QLED Ultra HD (4K) Smart TV</td>\n",
       "      <td>Netflix|Prime Video|Disney+Hotstar|YoutubeOperating System: AndroidHD Ready 1366 x 768 Pixels24 W Speaker Output60 Hz Refresh Rate3 x HDMI | 2 x USB1 Year Domestic Warranty, 2 Years on Panel</td>\n",
       "      <td>222900</td>\n",
       "      <td>122290</td>\n",
       "      <td>45</td>\n",
       "      <td>4.5</td>\n",
       "      <td>4256</td>\n",
       "      <td>637</td>\n",
       "    </tr>\n",
       "    <tr>\n",
       "      <th>4</th>\n",
       "      <td>SAMSUNG 80 cm (32 inch) HD Ready LED Smart TV</td>\n",
       "      <td>Netflix|Prime Video|Disney+Hotstar|YoutubeOperating System: AndroidHD Ready 1366 x 768 Pixels24 W Speaker Output60 Hz Refresh Rate3 x HDMI | 2 x USB1 Year Domestic Warranty, 2 Years on Panel</td>\n",
       "      <td>19900</td>\n",
       "      <td>16999</td>\n",
       "      <td>14</td>\n",
       "      <td>4.4</td>\n",
       "      <td>46497</td>\n",
       "      <td>4252</td>\n",
       "    </tr>\n",
       "  </tbody>\n",
       "</table></div>"
      ],
      "text/plain": [
       "                                        Product Name  \\\n",
       "0  realme 80 cm (32 inch) HD Ready LED Smart Andr...   \n",
       "1  Mi 4A PRO 80 cm (32 inch) HD Ready LED Smart A...   \n",
       "2  OnePlus Y Series 100 cm (40 inch) Full HD LED ...   \n",
       "3  SAMSUNG The Frame 2020 Series 163 cm (65 inch)...   \n",
       "4      SAMSUNG 80 cm (32 inch) HD Ready LED Smart TV   \n",
       "\n",
       "                                      Specifications  Actual Price  New Price  \\\n",
       "0  Netflix|Prime Video|Disney+Hotstar|YoutubeOper...         17999      14999   \n",
       "1  Netflix|Prime Video|Disney+Hotstar|YoutubeOper...         19999      16999   \n",
       "2  Netflix|Prime Video|Disney+Hotstar|YoutubeOper...         27999      22499   \n",
       "3  Netflix|Prime Video|Disney+Hotstar|YoutubeOper...        222900     122290   \n",
       "4  Netflix|Prime Video|Disney+Hotstar|YoutubeOper...         19900      16999   \n",
       "\n",
       "   Discount Percentage  Ratings  Rating Count  Review Count  \n",
       "0                   16      4.3        176327         20533  \n",
       "1                   15      4.4        653838         66469  \n",
       "2                   19      4.3         71363          6333  \n",
       "3                   45      4.5          4256           637  \n",
       "4                   14      4.4         46497          4252  "
      ]
     },
     "execution_count": 16,
     "metadata": {},
     "output_type": "execute_result"
    }
   ],
   "source": [
    "new_data.head()"
   ]
  },
  {
   "cell_type": "code",
   "execution_count": 11,
   "id": "0ba9beb7",
   "metadata": {},
   "outputs": [
    {
     "name": "stdout",
     "output_type": "stream",
     "text": [
      "<class 'pandas.core.frame.DataFrame'>\n",
      "RangeIndex: 48 entries, 0 to 47\n",
      "Data columns (total 8 columns):\n",
      " #   Column               Non-Null Count  Dtype  \n",
      "---  ------               --------------  -----  \n",
      " 0   Product Name         48 non-null     object \n",
      " 1   Specifications       48 non-null     object \n",
      " 2   Actual Price         48 non-null     int32  \n",
      " 3   New Price            48 non-null     int32  \n",
      " 4   Discount Percentage  48 non-null     int32  \n",
      " 5   Ratings              48 non-null     float64\n",
      " 6   Rating Count         48 non-null     int32  \n",
      " 7   Review Count         48 non-null     int32  \n",
      "dtypes: float64(1), int32(5), object(2)\n",
      "memory usage: 2.2+ KB\n"
     ]
    }
   ],
   "source": [
    "new_data.info()"
   ]
  },
  {
   "cell_type": "code",
   "execution_count": 12,
   "id": "dc9ba348",
   "metadata": {},
   "outputs": [
    {
     "data": {
      "text/plain": [
       "Product Name           0\n",
       "Specifications         0\n",
       "Actual Price           0\n",
       "New Price              0\n",
       "Discount Percentage    0\n",
       "Ratings                0\n",
       "Rating Count           0\n",
       "Review Count           0\n",
       "dtype: int64"
      ]
     },
     "execution_count": 12,
     "metadata": {},
     "output_type": "execute_result"
    }
   ],
   "source": [
    "new_data.isna().sum()"
   ]
  },
  {
   "cell_type": "code",
   "execution_count": 13,
   "id": "475f3635",
   "metadata": {},
   "outputs": [
    {
     "name": "stdout",
     "output_type": "stream",
     "text": [
      "do you want to save it in excel file if yes press 1 else press 0\n",
      "0\n",
      "thank you\n"
     ]
    }
   ],
   "source": [
    "print('do you want to save it in excel file if yes press 1 else press 0')\n",
    "val = input()\n",
    "if (val == '1'):\n",
    "    new_data.to_excel('{data}.xlsx'.format(data=product_name),index = True)\n",
    "else:\n",
    "    print('thank you')\n"
   ]
  },
  {
   "cell_type": "code",
   "execution_count": null,
   "id": "c9986989",
   "metadata": {},
   "outputs": [],
   "source": []
  }
 ],
 "metadata": {
  "kernelspec": {
   "display_name": "Python 3",
   "language": "python",
   "name": "python3"
  },
  "language_info": {
   "codemirror_mode": {
    "name": "ipython",
    "version": 3
   },
   "file_extension": ".py",
   "mimetype": "text/x-python",
   "name": "python",
   "nbconvert_exporter": "python",
   "pygments_lexer": "ipython3",
   "version": "3.8.8"
  }
 },
 "nbformat": 4,
 "nbformat_minor": 5
}
