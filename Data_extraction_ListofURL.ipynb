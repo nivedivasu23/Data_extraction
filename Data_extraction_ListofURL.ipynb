{
 "cells": [
  {
   "cell_type": "markdown",
   "id": "580a1cda",
   "metadata": {},
   "source": [
    "## Data Extraction and Text Analysis Blackcoffer Consulting\n"
   ]
  },
  {
   "cell_type": "markdown",
   "id": "92fea99f",
   "metadata": {},
   "source": [
    "### Data Extraction\n"
   ]
  },
  {
   "cell_type": "markdown",
   "id": "b7f84a15",
   "metadata": {},
   "source": [
    "For each of the articles, given in the input.xlsx file, extract the article text and save the extracted article in a text file with URL_ID as its file name.\n"
   ]
  },
  {
   "cell_type": "markdown",
   "id": "bd479765",
   "metadata": {},
   "source": [
    "first extract the required libraries"
   ]
  },
  {
   "cell_type": "code",
   "execution_count": 1,
   "id": "3855a80c",
   "metadata": {},
   "outputs": [],
   "source": [
    "import re\n",
    "import nltk\n",
    "import string\n",
    "import urllib\n",
    "import numpy as np\n",
    "import pandas as pd\n",
    "import requests as rs\n",
    "from bs4 import BeautifulSoup as soup\n"
   ]
  },
  {
   "cell_type": "code",
   "execution_count": 2,
   "id": "653188df",
   "metadata": {},
   "outputs": [],
   "source": [
    "#pip install textblob"
   ]
  },
  {
   "cell_type": "code",
   "execution_count": 3,
   "id": "18796f0a",
   "metadata": {},
   "outputs": [],
   "source": [
    "from textblob import TextBlob"
   ]
  },
  {
   "cell_type": "markdown",
   "id": "a710eaa3",
   "metadata": {},
   "source": [
    "#### using vaderSentiment package to count positive and negative score"
   ]
  },
  {
   "cell_type": "code",
   "execution_count": 4,
   "id": "6ba2fade",
   "metadata": {},
   "outputs": [],
   "source": [
    "from vaderSentiment.vaderSentiment import SentimentIntensityAnalyzer\n"
   ]
  },
  {
   "cell_type": "markdown",
   "id": "310edeee",
   "metadata": {},
   "source": [
    "### Sampling of data extraction"
   ]
  },
  {
   "cell_type": "code",
   "execution_count": 5,
   "id": "56c27a3a",
   "metadata": {},
   "outputs": [],
   "source": [
    "headers = {\n",
    "    'User-Agent': 'Mozilla/5.0 (Macintosh; Intel Mac OS X 10.12; rv:55.0) Gecko/20100101 Firefox/55.0',\n",
    "}\n",
    "url = 'https://insights.blackcoffer.com/how-small-business-can-survive-the-coronavirus-crisis/'\n",
    "page = rs.get(url,headers=headers)"
   ]
  },
  {
   "cell_type": "code",
   "execution_count": 6,
   "id": "1c896fc3",
   "metadata": {},
   "outputs": [],
   "source": [
    "a = soup(page.text, \"html.parser\")\n"
   ]
  },
  {
   "cell_type": "code",
   "execution_count": 7,
   "id": "aa6dc6b6",
   "metadata": {},
   "outputs": [
    {
     "name": "stdout",
     "output_type": "stream",
     "text": [
      "How Small Business can survive the Coronavirus Crisis - Blackcoffer Insights\n",
      "<class 'list'>\n",
      "How Small Business can survive the Coronavirus Crisis - Blackcoffer Insights['The word pandemic may be the most used word for the last decade, and we know why. The year 2020 comes with a lot of unprecedented threats to humans as well as to nature. While no business was left insulated from its effect, small businesses were one of the most affected, as they rely on day to day sales and keep the inventory minimum, based on the demand of customers and have a low margin to maneuver.', 'In an article by HSBC’s Navigator, which described the preparedness and contingency plan for the future, Indian business rated high among its peers. The businesses in India have shown resilience to face adversity which can be attributed to varying degrees of adjustment and adaptability. The businesses, while able to adhere to government guidelines have managed to facilitate their customers efficiently and effectively. However, the impact on micro, small, and medium enterprises cannot be left unattended.\\xa0', 'The Indian subcontinent has an estimated ₹ 633.88 lakh of MSME, out of which 51.2% are in rural areas which employ 44.84% of the total employment provided by this Sector. The MSME sector with 1170 lakh people constitutes 40% of the total workforce. As per the ministry of commerce MSME contribution in Gross Domestic Product (GDP) and export are 37% and 43% respectively.', 'With the huge contribution toward GDP as well as export, the impact on the national economy due to the shock in the MSME sector from the pandemic will be equally devastating. While different businesses face different types of obstacles, we have pointed out 8 of the most common issues faced by them.', 'For any business, cash in hand is oxygen. The small business which usually has at most 1-month cash to run the business if the revenue stream dries up, which in this tough time has to improve gradually. To manage the optimal cash balance is the key to success in this tough time. The optimal cash balance here, defined as “the less of\\xa0the amount of cash outflow in form\\xa0rent, employee salaries, and raw material without postponing the payable as they are doing what banks have to do, to the inflow from sale”.\\xa0', 'In any given situation, business is like juggling\\xa0between multiple tasks to optimize the performance while maximizing the revenue. The current situation has added another layer of\\xa0challenge. This challenge will test management skills in various aspects of our business owner.\\xa0', 'With this article, we have pointed out the major challenges and possible ways to alleviate the impact. As Anthony Robbins quotes, “Every problem is a gift—without problems we would not grow”, the current market has wiped out their share in the market which gives an opportunity to other businesses to grow and lower the expense.', 'While there may be many facets that need to be handled precisely, communication is one of the major tools that will create a positive environment among workers or teams which will influence the customer behavior and result in terms of revenue. The communication will also help to increase productivity and create trust in a supply chain which will improve the cash conversion cycles and working capital ratio.', 'Marketing through word of mouth has no added cost but the benefit can be scaled too much-required revenue. The choice of an effective\\xa0marketing tool can also influence our target customer and will influence their will to buy the product or service(s) strategically.', 'Cash from operating activity improves if we were able to lower our expenses. To lower these expenses, small business owners have to create a different plan (good, average, and worst) keeping the 6-month frame in mind. Breaking down them in monthly targets would further help them to identify the actual scenario and update the strategy accordingly.\\xa0\\xa0', 'As Warren Buffet quotes, “You only have to do a few things right in your life so long as you don’t do too many things wrong.” this is the right time to do the right thing and over time businesses will ripe its benefits.\\xa0']\n"
     ]
    }
   ],
   "source": [
    "title = a.find('title').get_text()\n",
    "print(str(title))\n",
    "para = [x.get_text() for x in a.find_all('p')]\n",
    "print(type(para))\n",
    "\n",
    "print(title+str(para))\n"
   ]
  },
  {
   "cell_type": "markdown",
   "id": "f0b1bc65",
   "metadata": {},
   "source": [
    "extract the input file and read the content of the file"
   ]
  },
  {
   "cell_type": "code",
   "execution_count": 8,
   "id": "64c19089",
   "metadata": {},
   "outputs": [
    {
     "name": "stdout",
     "output_type": "stream",
     "text": [
      "(170, 27)\n"
     ]
    }
   ],
   "source": [
    "data= pd.read_excel('Input.xlsx')\n",
    "print(data.shape)"
   ]
  },
  {
   "cell_type": "markdown",
   "id": "a9b12564",
   "metadata": {},
   "source": [
    "### storing the content in text file with URL as a file name"
   ]
  },
  {
   "cell_type": "markdown",
   "id": "7d521a8a",
   "metadata": {},
   "source": [
    "sice files can not be stored in url format some changes are made like reolacing '/' with '$' and ':' with '#'"
   ]
  },
  {
   "cell_type": "code",
   "execution_count": 9,
   "id": "376b1af9",
   "metadata": {},
   "outputs": [],
   "source": [
    "def encode_url(url):\n",
    "    return url.replace(\"/\", \"$\").replace(\":\", \"#\") "
   ]
  },
  {
   "cell_type": "markdown",
   "id": "426cae3c",
   "metadata": {},
   "source": [
    "creating a function to copy the ectracted data to a text file"
   ]
  },
  {
   "cell_type": "code",
   "execution_count": 10,
   "id": "e656029a",
   "metadata": {},
   "outputs": [],
   "source": [
    "def content_urls(urls):   \n",
    "    page = rs.get(urls,headers=headers)\n",
    "    a = soup(page.text, \"html.parser\")\n",
    "    title = a.find('title').get_text()\n",
    "    para = [x.get_text() for x in a.find_all('p')]\n",
    "    file_name= encode_url(urls)\n",
    "    file_name = str(file_name)\n",
    "    #file_name.replace(\"/\", \"_\").replace(\":\", \"#\")\n",
    "    print(str(file_name))\n",
    "    file = open('%s.txt' % file_name,'w',encoding=\"utf8\")\n",
    "    file.write(str(title))\n",
    "    file.write(str(para))\n",
    "    #file.flush()\n",
    "    file.close()\n",
    "    return \n",
    "    "
   ]
  },
  {
   "cell_type": "markdown",
   "id": "9eafc056",
   "metadata": {},
   "source": [
    "calling the above function"
   ]
  },
  {
   "cell_type": "code",
   "execution_count": 11,
   "id": "0d2001a7",
   "metadata": {},
   "outputs": [],
   "source": [
    "#data['URL'].apply(lambda x: content_urls(x))"
   ]
  },
  {
   "cell_type": "markdown",
   "id": "b93b3b9c",
   "metadata": {},
   "source": [
    "### created a function called content_urls and passes each url to it and storing the content and title to a column called content rather than creating text file"
   ]
  },
  {
   "cell_type": "code",
   "execution_count": 12,
   "id": "00681ca3",
   "metadata": {},
   "outputs": [],
   "source": [
    "def content_urls_data(urls):   \n",
    "    page = rs.get(urls,headers=headers)\n",
    "    a = soup(page.text, \"html.parser\")\n",
    "    title = a.find('title').get_text()\n",
    "    para = [x.get_text() for x in a.find_all('p')]\n",
    "    para = str(para)\n",
    "    content = title+para\n",
    "    return content"
   ]
  },
  {
   "cell_type": "code",
   "execution_count": 13,
   "id": "d04850cf",
   "metadata": {},
   "outputs": [],
   "source": [
    "#data['content'] = data['URL'].apply(lambda x: content_urls_data(x))"
   ]
  },
  {
   "cell_type": "code",
   "execution_count": 14,
   "id": "15026062",
   "metadata": {},
   "outputs": [],
   "source": [
    "data.to_csv('Input.csv',index=False)"
   ]
  },
  {
   "cell_type": "code",
   "execution_count": 15,
   "id": "2e7169db",
   "metadata": {},
   "outputs": [],
   "source": [
    "data1 = pd.read_csv(\"Input.csv\")"
   ]
  },
  {
   "cell_type": "code",
   "execution_count": 16,
   "id": "0c379ebf",
   "metadata": {},
   "outputs": [],
   "source": [
    "df = data1"
   ]
  },
  {
   "cell_type": "code",
   "execution_count": 17,
   "id": "3adb846c",
   "metadata": {},
   "outputs": [],
   "source": [
    "df.dropna(axis = 1, inplace = True)"
   ]
  },
  {
   "cell_type": "code",
   "execution_count": 18,
   "id": "e67f6e16",
   "metadata": {},
   "outputs": [
    {
     "name": "stdout",
     "output_type": "stream",
     "text": [
      "object\n"
     ]
    }
   ],
   "source": [
    "print(df.content.dtype)\n",
    "    "
   ]
  },
  {
   "cell_type": "markdown",
   "id": "ae5cd749",
   "metadata": {},
   "source": [
    "## DATA ANALYSIS"
   ]
  },
  {
   "cell_type": "markdown",
   "id": "726dbdd8",
   "metadata": {},
   "source": [
    "For each of the extracted texts from the article, perform textual analysis and compute variables\n"
   ]
  },
  {
   "cell_type": "markdown",
   "id": "dc0e0c7c",
   "metadata": {},
   "source": [
    "#### Function is used to remove the special character"
   ]
  },
  {
   "cell_type": "markdown",
   "id": "8ff4a97e",
   "metadata": {},
   "source": [
    "Here I have removed the special character only keeping '.'(fullstop) so to distinguish the sentence"
   ]
  },
  {
   "cell_type": "code",
   "execution_count": 19,
   "id": "4ca3cfdb",
   "metadata": {},
   "outputs": [],
   "source": [
    "def clean_data(input_text):\n",
    "    input_text = str(input_text)\n",
    "    input_txt= re.sub(\"[^A-Za-z0-9.]+\", \" \",input_text)\n",
    "    return input_txt"
   ]
  },
  {
   "cell_type": "code",
   "execution_count": 20,
   "id": "8b283f6b",
   "metadata": {},
   "outputs": [],
   "source": [
    "df['cleaned_data'] = df['content'].apply(lambda x: clean_data(x))"
   ]
  },
  {
   "cell_type": "code",
   "execution_count": 21,
   "id": "bf698b99",
   "metadata": {},
   "outputs": [
    {
     "data": {
      "text/plain": [
       "' title How is Login Logout Time Tracking for Employees in Office done by AI Blackcoffer Insights title p When people hear AI they often think about sentient robots and magic boxes. AI today is much more mundane and simple but that doesn t mean it s not powerful. Another misconception is that high profile research projects can be applied directly to any business situation. AI done right can create an extreme return on investments ROIs for instance through automation or precise prediction. But it does take thought time and proper implementation. We have seen that success and value generated by AI projects are increased when there is a grounded understanding and expectation of what the technology can deliver from the C suite down. p p Artificial Intelligence AI is a science and a set of computational technologies that are inspired by but typically operate quite differently from the ways people use their nervous systems and bodies to sense learn reason and take action. 3 Lately there has been a big rise in the day to day use of machines powered by AI. These machines are wired using cross disciplinary approaches based on mathematics computer science statistics psychology and more.4 Virtual assistants are becoming more common most of the web shops predict your purchases many companies make use of chatbots in their customer service and many companies use algorithms to detect fraud. p p AI and Deep Learning technology employed in office entry systems will bring proper time tracking of each employee. As this system tries to learn each person with an image processing technology whose data is feed forwarded to a deep learning model where Deep learning isn t an algorithm per se but rather a family of algorithms that implements deep networks many layers . These networks are so deep that new methods of computation such as graphics processing units GPUs are required to train them in addition to clusters of compute nodes. So using deep learning we can take detect the employee using face and person recognition scan and through which login logout timing is recorded. Using an AI system we can even identify each employee s entry time their working hours non working hours by tracking the movement of an employee in the office so that system can predict and report HR for the salary for each employee based on their working hours. Our system can take feed from CCTV to track movements of employees and this system is capable of recognizing a person even he she is being masked as in this pandemic situation by taking their iris scan. With this system installed inside the office the following are some of the benefits p p For several countries regulations insist that the employer must keep documents available that can demonstrate the working hours performed by each employee. In the event of control from the labor inspectorate or a dispute with an employee the employer must be able to explain and justify the working hours for the company. This can be made easy as our system is tracking employee movements p p This is about monitoring user connection times to detect suspicious access times. In the event where compromised credentials are used to log on at 3 a.m. on a Saturday a notification on this access could alert the IT team that an attack is possibly underway. p p To manage and react to employees attendance overtime thresholds productivity and suspicious access times our system records and stores detailed and interactive reporting on users connection times. These records allow you to better manage users connection times and provide accurate detailed data required by management. p p 4 If you want to avoid paying overtime make sure that your employees respect certain working time quotas or even avoid suspicious access. Our system will alert the HR officer about each employee s office in and out time so that they can accordingly take action. p p 5 Last but not least it reduces human resource needs to keep track of the records and sending the report to HR and HR officials has to check through the report so this system will reduce times and human resource needs p p With the use of AI and Deep Learning technologies we can automate some routines stuff with more functionality which humans need more resources to keep track thereby reducing time spent on manual data entry works rather companies can think of making their position high in the competitive world. p '"
      ]
     },
     "execution_count": 21,
     "metadata": {},
     "output_type": "execute_result"
    }
   ],
   "source": [
    "df.cleaned_data[0] # sample data set"
   ]
  },
  {
   "cell_type": "markdown",
   "id": "e3763d61",
   "metadata": {},
   "source": [
    "#### remove the wordes whose length is less than 3"
   ]
  },
  {
   "cell_type": "code",
   "execution_count": 22,
   "id": "6bb44fdd",
   "metadata": {},
   "outputs": [],
   "source": [
    "#df['cleaned_data'] = df['cleaned_data'].apply(lambda x: ' '.join([w for w in x.split() if len(w)>3]))"
   ]
  },
  {
   "cell_type": "code",
   "execution_count": 23,
   "id": "36a83d3f",
   "metadata": {},
   "outputs": [],
   "source": [
    "#df['cleaned_data'] = df['cleaned_data'].apply(lambda x: x.split('.'))"
   ]
  },
  {
   "cell_type": "code",
   "execution_count": 24,
   "id": "01963f33",
   "metadata": {},
   "outputs": [
    {
     "data": {
      "text/plain": [
       "(170,)"
      ]
     },
     "execution_count": 24,
     "metadata": {},
     "output_type": "execute_result"
    }
   ],
   "source": [
    "df['cleaned_data'].shape"
   ]
  },
  {
   "cell_type": "markdown",
   "id": "99a0a755",
   "metadata": {},
   "source": [
    "### POSITIVE SCORE calculation"
   ]
  },
  {
   "cell_type": "code",
   "execution_count": 25,
   "id": "e82314db",
   "metadata": {},
   "outputs": [],
   "source": [
    "def pos_scores(statement):\n",
    "    sid_obj = SentimentIntensityAnalyzer()\n",
    "    scores  = sid_obj.polarity_scores(str(statement))\n",
    "    return scores['pos']\n",
    "    "
   ]
  },
  {
   "cell_type": "code",
   "execution_count": 26,
   "id": "29284386",
   "metadata": {},
   "outputs": [],
   "source": [
    "df['POSITIVE SCORE']= df['cleaned_data'].apply(lambda x: pos_scores(x))"
   ]
  },
  {
   "cell_type": "markdown",
   "id": "9ccebc0f",
   "metadata": {},
   "source": [
    "### NEGATIVE SCORE calculation"
   ]
  },
  {
   "cell_type": "code",
   "execution_count": 27,
   "id": "2532b833",
   "metadata": {},
   "outputs": [],
   "source": [
    "def negative_scores(statement):\n",
    "    sid_obj = SentimentIntensityAnalyzer()\n",
    "    scores  = sid_obj.polarity_scores(str(statement))\n",
    "    return scores['neg']"
   ]
  },
  {
   "cell_type": "code",
   "execution_count": 28,
   "id": "7c7547a6",
   "metadata": {},
   "outputs": [],
   "source": [
    "df['NEGATIVE SCORE']= df['cleaned_data'].apply(lambda x: negative_scores(x))"
   ]
  },
  {
   "cell_type": "markdown",
   "id": "81308769",
   "metadata": {},
   "source": [
    "### POLARITY SCORE calculation"
   ]
  },
  {
   "cell_type": "markdown",
   "id": "babd3111",
   "metadata": {},
   "source": [
    "Polarity tells whether thegiven text is a positive text or negative the value ranges fron[-1,1]"
   ]
  },
  {
   "cell_type": "code",
   "execution_count": 29,
   "id": "bafea5e8",
   "metadata": {},
   "outputs": [],
   "source": [
    "def polarity_score(statement):\n",
    "    statement = str(statement)\n",
    "    polarity = TextBlob(statement).sentiment\n",
    "    return polarity[0]"
   ]
  },
  {
   "cell_type": "code",
   "execution_count": 30,
   "id": "1a30a113",
   "metadata": {},
   "outputs": [],
   "source": [
    "df['POLARITY SCORE'] = df['cleaned_data'].apply(lambda x: polarity_score(x))"
   ]
  },
  {
   "cell_type": "markdown",
   "id": "9c0b1452",
   "metadata": {},
   "source": [
    "### SUBJECTIVITY SCORE calculation"
   ]
  },
  {
   "cell_type": "markdown",
   "id": "32b498b4",
   "metadata": {},
   "source": [
    "Subjective sentences generally refer to personal opinion, emotion or judgment . So the below code describes the if the provided text is subjective or objective"
   ]
  },
  {
   "cell_type": "code",
   "execution_count": 31,
   "id": "8530cb8c",
   "metadata": {},
   "outputs": [],
   "source": [
    "def sunjective_score(statement):\n",
    "    statement = str(statement)\n",
    "    subjectivity = TextBlob(statement).sentiment\n",
    "    #print(subjectivity)\n",
    "    return subjectivity[1]"
   ]
  },
  {
   "cell_type": "code",
   "execution_count": 32,
   "id": "88c43539",
   "metadata": {},
   "outputs": [],
   "source": [
    "df['SUBJECTIVITY SCORE'] = df['cleaned_data'].apply(lambda x: sunjective_score(x))"
   ]
  },
  {
   "cell_type": "code",
   "execution_count": 33,
   "id": "2e699611",
   "metadata": {},
   "outputs": [
    {
     "data": {
      "text/plain": [
       "Sentiment(polarity=0.1746273660979544, subjectivity=0.48629912571089035)"
      ]
     },
     "execution_count": 33,
     "metadata": {},
     "output_type": "execute_result"
    }
   ],
   "source": [
    "TextBlob(str(df['cleaned_data'][1])).sentiment"
   ]
  },
  {
   "cell_type": "code",
   "execution_count": 34,
   "id": "88e2b4ea",
   "metadata": {},
   "outputs": [],
   "source": [
    "#pip install vaderSentiment"
   ]
  },
  {
   "cell_type": "code",
   "execution_count": 35,
   "id": "fc60b5ae",
   "metadata": {},
   "outputs": [
    {
     "data": {
      "text/plain": [
       "{'neg': 0.042, 'neu': 0.887, 'pos': 0.071, 'compound': 0.9709}"
      ]
     },
     "execution_count": 35,
     "metadata": {},
     "output_type": "execute_result"
    }
   ],
   "source": [
    "sid_obj = SentimentIntensityAnalyzer()\n",
    "sid_obj.polarity_scores(str(df['cleaned_data'][0]))"
   ]
  },
  {
   "cell_type": "markdown",
   "id": "c27ca420",
   "metadata": {},
   "source": [
    "### AVG SENTENCE LENGTH calculation"
   ]
  },
  {
   "cell_type": "code",
   "execution_count": 36,
   "id": "b74976b7",
   "metadata": {},
   "outputs": [],
   "source": [
    "def avg_sentence_len(text):\n",
    "    sentences = text.split(\".\") #split the text into a list of sentences.\n",
    "    words = text.split(\" \") #split the input text into a list of separate words\n",
    "    if(sentences[len(sentences)-1]==\"\"): #if the last value in sentences is an empty string\n",
    "        average_sentence_length = len(words) / len(sentences)-1\n",
    "    else:\n",
    "        average_sentence_length = len(words) / len(sentences)\n",
    "    return average_sentence_length "
   ]
  },
  {
   "cell_type": "code",
   "execution_count": 37,
   "id": "97e6d8d3",
   "metadata": {},
   "outputs": [],
   "source": [
    "df['AVG SENTENCE LENGTH'] = df['cleaned_data'].apply(lambda x: avg_sentence_len(x))"
   ]
  },
  {
   "cell_type": "markdown",
   "id": "163d64a5",
   "metadata": {},
   "source": [
    "### WORD COUNT calculation"
   ]
  },
  {
   "cell_type": "code",
   "execution_count": 38,
   "id": "7da48616",
   "metadata": {},
   "outputs": [],
   "source": [
    "def wordcount(text):\n",
    "    # Regex to match all words, hyphenated words count as a compound words\n",
    "    return len(re.findall(\"[a-zA-Z-]+\", text))"
   ]
  },
  {
   "cell_type": "code",
   "execution_count": 39,
   "id": "6c6ff20b",
   "metadata": {},
   "outputs": [],
   "source": [
    "df['WORD COUNT'] = df['cleaned_data'].apply(lambda x: wordcount(x))"
   ]
  },
  {
   "cell_type": "markdown",
   "id": "5c64adfe",
   "metadata": {},
   "source": [
    "### AVG WORD LENGTH calculation"
   ]
  },
  {
   "cell_type": "code",
   "execution_count": 40,
   "id": "d280385f",
   "metadata": {},
   "outputs": [],
   "source": [
    "def average_word_length(sentence):\n",
    "    words = sentence.split()\n",
    "    average = sum(len(word) for word in words) / len(words)\n",
    "    return average"
   ]
  },
  {
   "cell_type": "code",
   "execution_count": 41,
   "id": "a4a01a2c",
   "metadata": {},
   "outputs": [],
   "source": [
    "df['AVG WORD LENGTH'] = df['cleaned_data'].apply(lambda x: average_word_length(x))"
   ]
  },
  {
   "cell_type": "markdown",
   "id": "5cb9cf6e",
   "metadata": {},
   "source": [
    "### SYLLABLE PER WORD calculation"
   ]
  },
  {
   "cell_type": "code",
   "execution_count": 42,
   "id": "571eaccb",
   "metadata": {},
   "outputs": [],
   "source": [
    "def syllable_count(text):\n",
    "    syllable_count=0\n",
    "    for word in text:\n",
    "        for w in word:\n",
    "            if(w=='a' or w=='e' or w=='i' or w=='o' or w=='u' or w=='A' or w=='E' or w=='I' or w=='O' or w=='U'or w == 'y'or w == 'Y'):\n",
    "                syllable_count=syllable_count+1\n",
    "    return syllable_count"
   ]
  },
  {
   "cell_type": "code",
   "execution_count": 43,
   "id": "cb266433",
   "metadata": {},
   "outputs": [],
   "source": [
    "df['SYLLABLE PER WORD'] = df['cleaned_data'].apply(lambda x: syllable_count(x))"
   ]
  },
  {
   "cell_type": "markdown",
   "id": "483af676",
   "metadata": {},
   "source": [
    "### PERSONAL PRONOUNS calculation"
   ]
  },
  {
   "cell_type": "code",
   "execution_count": 44,
   "id": "15b85253",
   "metadata": {},
   "outputs": [],
   "source": [
    "def personal_pronoune(text):\n",
    "    syllable_count=0\n",
    "    for word in text:\n",
    "        for w in word:\n",
    "            if(w=='he' or w=='she' or w=='i' or w=='He' or w=='She' or w=='I' or w=='us' or w=='Us'):\n",
    "                syllable_count=syllable_count+1\n",
    "    return syllable_count"
   ]
  },
  {
   "cell_type": "code",
   "execution_count": 45,
   "id": "9f32e08e",
   "metadata": {},
   "outputs": [],
   "source": [
    "df['PERSONAL PRONOUNS'] = df['cleaned_data'].apply(lambda x: personal_pronoune(x))"
   ]
  },
  {
   "cell_type": "markdown",
   "id": "d7a16afb",
   "metadata": {},
   "source": [
    "### COMPLEX WORD COUNT calculation"
   ]
  },
  {
   "cell_type": "code",
   "execution_count": 46,
   "id": "f1c14cf7",
   "metadata": {},
   "outputs": [],
   "source": [
    "def complex_word_count(statement):\n",
    "    statement = str(statement)\n",
    "    words = ' '.join([w for w in statement.split() if len(w)>3])\n",
    "    #print(words)\n",
    "    x = len(re.findall(\"[a-zA-Z-]+\", words))\n",
    "    #print(x)\n",
    "    return x\n",
    "    "
   ]
  },
  {
   "cell_type": "code",
   "execution_count": 47,
   "id": "974aca52",
   "metadata": {},
   "outputs": [],
   "source": [
    "df['COMPLEX WORD COUNT']=df['cleaned_data'].apply(lambda x: complex_word_count(x))"
   ]
  },
  {
   "cell_type": "markdown",
   "id": "e94d93b5",
   "metadata": {},
   "source": [
    "### PERCENTAGE OF COMPLEX WORDS calcualtion"
   ]
  },
  {
   "cell_type": "code",
   "execution_count": 48,
   "id": "f1091e10",
   "metadata": {},
   "outputs": [],
   "source": [
    "df['PERCENTAGE OF COMPLEX WORDS'] = (df['COMPLEX WORD COUNT']/df['WORD COUNT'])*100\n",
    "    "
   ]
  },
  {
   "cell_type": "markdown",
   "id": "a6304051",
   "metadata": {},
   "source": [
    " ### FOG INDEX calculation"
   ]
  },
  {
   "cell_type": "code",
   "execution_count": 49,
   "id": "bc507e41",
   "metadata": {},
   "outputs": [],
   "source": [
    "df['FOG INDEX'] = (df['AVG SENTENCE LENGTH']+ df['PERCENTAGE OF COMPLEX WORDS'])* 0.4"
   ]
  },
  {
   "cell_type": "code",
   "execution_count": 50,
   "id": "b5b3b60c",
   "metadata": {},
   "outputs": [],
   "source": [
    "def avrg_word_per_sentense(text):\n",
    "    words = text.split()\n",
    "    wordCount = len(words)\n",
    "    for word in words:\n",
    "        ch= len(word)\n",
    "    avg = ch / wordCount\n",
    "    return avg"
   ]
  },
  {
   "cell_type": "code",
   "execution_count": 51,
   "id": "c9024555",
   "metadata": {},
   "outputs": [],
   "source": [
    "df['AVG NUMBER OF WORDS PER SENTENCE']= df['cleaned_data'].apply(lambda x: avrg_word_per_sentense(x))"
   ]
  },
  {
   "cell_type": "code",
   "execution_count": null,
   "id": "0d6ea816",
   "metadata": {},
   "outputs": [],
   "source": []
  },
  {
   "cell_type": "code",
   "execution_count": 52,
   "id": "436d2340",
   "metadata": {},
   "outputs": [],
   "source": [
    "dff = df"
   ]
  },
  {
   "cell_type": "code",
   "execution_count": 53,
   "id": "8d5fbeda",
   "metadata": {},
   "outputs": [],
   "source": [
    "dff.drop('content', axis =1,inplace = True)"
   ]
  },
  {
   "cell_type": "code",
   "execution_count": 54,
   "id": "440426b3",
   "metadata": {},
   "outputs": [],
   "source": [
    "dff.drop('cleaned_data', axis = 1, inplace = True)"
   ]
  },
  {
   "cell_type": "code",
   "execution_count": 57,
   "id": "fd901fa2",
   "metadata": {},
   "outputs": [],
   "source": [
    "dff.to_csv('Output.csv', index = False)"
   ]
  },
  {
   "cell_type": "code",
   "execution_count": 56,
   "id": "9d04f8f6",
   "metadata": {},
   "outputs": [
    {
     "data": {
      "text/html": [
       "<div>\n",
       "<style scoped>\n",
       "    .dataframe tbody tr th:only-of-type {\n",
       "        vertical-align: middle;\n",
       "    }\n",
       "\n",
       "    .dataframe tbody tr th {\n",
       "        vertical-align: top;\n",
       "    }\n",
       "\n",
       "    .dataframe thead th {\n",
       "        text-align: right;\n",
       "    }\n",
       "</style>\n",
       "<table border=\"1\" class=\"dataframe\">\n",
       "  <thead>\n",
       "    <tr style=\"text-align: right;\">\n",
       "      <th></th>\n",
       "      <th>URL_ID</th>\n",
       "      <th>URL</th>\n",
       "      <th>POSITIVE SCORE</th>\n",
       "      <th>NEGATIVE SCORE</th>\n",
       "      <th>POLARITY SCORE</th>\n",
       "      <th>SUBJECTIVITY SCORE</th>\n",
       "      <th>AVG SENTENCE LENGTH</th>\n",
       "      <th>WORD COUNT</th>\n",
       "      <th>AVG WORD LENGTH</th>\n",
       "      <th>SYLLABLE PER WORD</th>\n",
       "      <th>PERSONAL PRONOUNS</th>\n",
       "      <th>COMPLEX WORD COUNT</th>\n",
       "      <th>PERCENTAGE OF COMPLEX WORDS</th>\n",
       "      <th>FOG INDEX</th>\n",
       "      <th>AVG NUMBER OF WORDS PER SENTENCE</th>\n",
       "    </tr>\n",
       "  </thead>\n",
       "  <tbody>\n",
       "    <tr>\n",
       "      <th>0</th>\n",
       "      <td>1</td>\n",
       "      <td>https://insights.blackcoffer.com/how-is-login-...</td>\n",
       "      <td>0.071</td>\n",
       "      <td>0.042</td>\n",
       "      <td>0.136284</td>\n",
       "      <td>0.462936</td>\n",
       "      <td>26.821429</td>\n",
       "      <td>745</td>\n",
       "      <td>4.878505</td>\n",
       "      <td>1480</td>\n",
       "      <td>266</td>\n",
       "      <td>474</td>\n",
       "      <td>63.624161</td>\n",
       "      <td>36.178236</td>\n",
       "      <td>0.001335</td>\n",
       "    </tr>\n",
       "    <tr>\n",
       "      <th>1</th>\n",
       "      <td>2</td>\n",
       "      <td>https://insights.blackcoffer.com/how-does-ai-h...</td>\n",
       "      <td>0.142</td>\n",
       "      <td>0.036</td>\n",
       "      <td>0.174627</td>\n",
       "      <td>0.486299</td>\n",
       "      <td>22.793103</td>\n",
       "      <td>660</td>\n",
       "      <td>5.177542</td>\n",
       "      <td>1342</td>\n",
       "      <td>264</td>\n",
       "      <td>428</td>\n",
       "      <td>64.848485</td>\n",
       "      <td>35.056635</td>\n",
       "      <td>0.001517</td>\n",
       "    </tr>\n",
       "    <tr>\n",
       "      <th>2</th>\n",
       "      <td>3</td>\n",
       "      <td>https://insights.blackcoffer.com/ai-and-its-im...</td>\n",
       "      <td>0.168</td>\n",
       "      <td>0.023</td>\n",
       "      <td>0.182008</td>\n",
       "      <td>0.565414</td>\n",
       "      <td>25.233766</td>\n",
       "      <td>1939</td>\n",
       "      <td>5.028336</td>\n",
       "      <td>3832</td>\n",
       "      <td>819</td>\n",
       "      <td>1178</td>\n",
       "      <td>60.752965</td>\n",
       "      <td>34.394693</td>\n",
       "      <td>0.000515</td>\n",
       "    </tr>\n",
       "    <tr>\n",
       "      <th>3</th>\n",
       "      <td>4</td>\n",
       "      <td>https://insights.blackcoffer.com/how-do-deep-l...</td>\n",
       "      <td>0.094</td>\n",
       "      <td>0.000</td>\n",
       "      <td>0.091798</td>\n",
       "      <td>0.462051</td>\n",
       "      <td>30.066667</td>\n",
       "      <td>449</td>\n",
       "      <td>5.280624</td>\n",
       "      <td>955</td>\n",
       "      <td>201</td>\n",
       "      <td>297</td>\n",
       "      <td>66.146993</td>\n",
       "      <td>38.485464</td>\n",
       "      <td>0.002227</td>\n",
       "    </tr>\n",
       "    <tr>\n",
       "      <th>4</th>\n",
       "      <td>5</td>\n",
       "      <td>https://insights.blackcoffer.com/how-artificia...</td>\n",
       "      <td>0.219</td>\n",
       "      <td>0.021</td>\n",
       "      <td>0.209313</td>\n",
       "      <td>0.609319</td>\n",
       "      <td>24.812500</td>\n",
       "      <td>787</td>\n",
       "      <td>4.940657</td>\n",
       "      <td>1537</td>\n",
       "      <td>340</td>\n",
       "      <td>474</td>\n",
       "      <td>60.228717</td>\n",
       "      <td>34.016487</td>\n",
       "      <td>0.001263</td>\n",
       "    </tr>\n",
       "    <tr>\n",
       "      <th>...</th>\n",
       "      <td>...</td>\n",
       "      <td>...</td>\n",
       "      <td>...</td>\n",
       "      <td>...</td>\n",
       "      <td>...</td>\n",
       "      <td>...</td>\n",
       "      <td>...</td>\n",
       "      <td>...</td>\n",
       "      <td>...</td>\n",
       "      <td>...</td>\n",
       "      <td>...</td>\n",
       "      <td>...</td>\n",
       "      <td>...</td>\n",
       "      <td>...</td>\n",
       "      <td>...</td>\n",
       "    </tr>\n",
       "    <tr>\n",
       "      <th>165</th>\n",
       "      <td>167</td>\n",
       "      <td>https://insights.blackcoffer.com/role-big-data...</td>\n",
       "      <td>0.088</td>\n",
       "      <td>0.029</td>\n",
       "      <td>0.133209</td>\n",
       "      <td>0.430751</td>\n",
       "      <td>18.560440</td>\n",
       "      <td>1694</td>\n",
       "      <td>5.062833</td>\n",
       "      <td>3319</td>\n",
       "      <td>596</td>\n",
       "      <td>1039</td>\n",
       "      <td>61.334120</td>\n",
       "      <td>31.957824</td>\n",
       "      <td>0.000593</td>\n",
       "    </tr>\n",
       "    <tr>\n",
       "      <th>166</th>\n",
       "      <td>168</td>\n",
       "      <td>https://insights.blackcoffer.com/sales-forecas...</td>\n",
       "      <td>0.125</td>\n",
       "      <td>0.054</td>\n",
       "      <td>0.095859</td>\n",
       "      <td>0.469022</td>\n",
       "      <td>23.645161</td>\n",
       "      <td>731</td>\n",
       "      <td>5.502052</td>\n",
       "      <td>1564</td>\n",
       "      <td>337</td>\n",
       "      <td>498</td>\n",
       "      <td>68.125855</td>\n",
       "      <td>36.708407</td>\n",
       "      <td>0.001368</td>\n",
       "    </tr>\n",
       "    <tr>\n",
       "      <th>167</th>\n",
       "      <td>169</td>\n",
       "      <td>https://insights.blackcoffer.com/detect-data-e...</td>\n",
       "      <td>0.120</td>\n",
       "      <td>0.104</td>\n",
       "      <td>0.066126</td>\n",
       "      <td>0.503678</td>\n",
       "      <td>15.333333</td>\n",
       "      <td>1134</td>\n",
       "      <td>5.284843</td>\n",
       "      <td>2313</td>\n",
       "      <td>478</td>\n",
       "      <td>757</td>\n",
       "      <td>66.754850</td>\n",
       "      <td>32.835273</td>\n",
       "      <td>0.000871</td>\n",
       "    </tr>\n",
       "    <tr>\n",
       "      <th>168</th>\n",
       "      <td>170</td>\n",
       "      <td>https://insights.blackcoffer.com/data-exfiltra...</td>\n",
       "      <td>0.051</td>\n",
       "      <td>0.032</td>\n",
       "      <td>0.062619</td>\n",
       "      <td>0.505134</td>\n",
       "      <td>13.934783</td>\n",
       "      <td>643</td>\n",
       "      <td>4.928013</td>\n",
       "      <td>1148</td>\n",
       "      <td>237</td>\n",
       "      <td>395</td>\n",
       "      <td>61.430793</td>\n",
       "      <td>30.146230</td>\n",
       "      <td>0.001565</td>\n",
       "    </tr>\n",
       "    <tr>\n",
       "      <th>169</th>\n",
       "      <td>171</td>\n",
       "      <td>https://insights.blackcoffer.com/impacts-of-co...</td>\n",
       "      <td>0.093</td>\n",
       "      <td>0.044</td>\n",
       "      <td>0.014033</td>\n",
       "      <td>0.378154</td>\n",
       "      <td>28.090909</td>\n",
       "      <td>301</td>\n",
       "      <td>4.830619</td>\n",
       "      <td>568</td>\n",
       "      <td>106</td>\n",
       "      <td>184</td>\n",
       "      <td>61.129568</td>\n",
       "      <td>35.688191</td>\n",
       "      <td>0.003257</td>\n",
       "    </tr>\n",
       "  </tbody>\n",
       "</table>\n",
       "<p>170 rows × 15 columns</p>\n",
       "</div>"
      ],
      "text/plain": [
       "     URL_ID                                                URL  \\\n",
       "0         1  https://insights.blackcoffer.com/how-is-login-...   \n",
       "1         2  https://insights.blackcoffer.com/how-does-ai-h...   \n",
       "2         3  https://insights.blackcoffer.com/ai-and-its-im...   \n",
       "3         4  https://insights.blackcoffer.com/how-do-deep-l...   \n",
       "4         5  https://insights.blackcoffer.com/how-artificia...   \n",
       "..      ...                                                ...   \n",
       "165     167  https://insights.blackcoffer.com/role-big-data...   \n",
       "166     168  https://insights.blackcoffer.com/sales-forecas...   \n",
       "167     169  https://insights.blackcoffer.com/detect-data-e...   \n",
       "168     170  https://insights.blackcoffer.com/data-exfiltra...   \n",
       "169     171  https://insights.blackcoffer.com/impacts-of-co...   \n",
       "\n",
       "     POSITIVE SCORE  NEGATIVE SCORE  POLARITY SCORE  SUBJECTIVITY SCORE  \\\n",
       "0             0.071           0.042        0.136284            0.462936   \n",
       "1             0.142           0.036        0.174627            0.486299   \n",
       "2             0.168           0.023        0.182008            0.565414   \n",
       "3             0.094           0.000        0.091798            0.462051   \n",
       "4             0.219           0.021        0.209313            0.609319   \n",
       "..              ...             ...             ...                 ...   \n",
       "165           0.088           0.029        0.133209            0.430751   \n",
       "166           0.125           0.054        0.095859            0.469022   \n",
       "167           0.120           0.104        0.066126            0.503678   \n",
       "168           0.051           0.032        0.062619            0.505134   \n",
       "169           0.093           0.044        0.014033            0.378154   \n",
       "\n",
       "     AVG SENTENCE LENGTH  WORD COUNT  AVG WORD LENGTH  SYLLABLE PER WORD  \\\n",
       "0              26.821429         745         4.878505               1480   \n",
       "1              22.793103         660         5.177542               1342   \n",
       "2              25.233766        1939         5.028336               3832   \n",
       "3              30.066667         449         5.280624                955   \n",
       "4              24.812500         787         4.940657               1537   \n",
       "..                   ...         ...              ...                ...   \n",
       "165            18.560440        1694         5.062833               3319   \n",
       "166            23.645161         731         5.502052               1564   \n",
       "167            15.333333        1134         5.284843               2313   \n",
       "168            13.934783         643         4.928013               1148   \n",
       "169            28.090909         301         4.830619                568   \n",
       "\n",
       "     PERSONAL PRONOUNS  COMPLEX WORD COUNT  PERCENTAGE OF COMPLEX WORDS  \\\n",
       "0                  266                 474                    63.624161   \n",
       "1                  264                 428                    64.848485   \n",
       "2                  819                1178                    60.752965   \n",
       "3                  201                 297                    66.146993   \n",
       "4                  340                 474                    60.228717   \n",
       "..                 ...                 ...                          ...   \n",
       "165                596                1039                    61.334120   \n",
       "166                337                 498                    68.125855   \n",
       "167                478                 757                    66.754850   \n",
       "168                237                 395                    61.430793   \n",
       "169                106                 184                    61.129568   \n",
       "\n",
       "     FOG INDEX  AVG NUMBER OF WORDS PER SENTENCE  \n",
       "0    36.178236                          0.001335  \n",
       "1    35.056635                          0.001517  \n",
       "2    34.394693                          0.000515  \n",
       "3    38.485464                          0.002227  \n",
       "4    34.016487                          0.001263  \n",
       "..         ...                               ...  \n",
       "165  31.957824                          0.000593  \n",
       "166  36.708407                          0.001368  \n",
       "167  32.835273                          0.000871  \n",
       "168  30.146230                          0.001565  \n",
       "169  35.688191                          0.003257  \n",
       "\n",
       "[170 rows x 15 columns]"
      ]
     },
     "execution_count": 56,
     "metadata": {},
     "output_type": "execute_result"
    }
   ],
   "source": [
    "dff"
   ]
  },
  {
   "cell_type": "code",
   "execution_count": null,
   "id": "9898fbb5",
   "metadata": {},
   "outputs": [],
   "source": []
  }
 ],
 "metadata": {
  "kernelspec": {
   "display_name": "Python 3",
   "language": "python",
   "name": "python3"
  },
  "language_info": {
   "codemirror_mode": {
    "name": "ipython",
    "version": 3
   },
   "file_extension": ".py",
   "mimetype": "text/x-python",
   "name": "python",
   "nbconvert_exporter": "python",
   "pygments_lexer": "ipython3",
   "version": "3.8.8"
  }
 },
 "nbformat": 4,
 "nbformat_minor": 5
}
